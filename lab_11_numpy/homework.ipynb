{
 "cells": [
  {
   "cell_type": "code",
   "execution_count": 1,
   "metadata": {},
   "outputs": [],
   "source": [
    "import numpy as np"
   ]
  },
  {
   "cell_type": "markdown",
   "metadata": {},
   "source": [
    "### Задание 1"
   ]
  },
  {
   "cell_type": "code",
   "execution_count": 2,
   "metadata": {},
   "outputs": [
    {
     "name": "stdout",
     "output_type": "stream",
     "text": [
      "Результат: [9 8 7 6 5 4 3 2 1 0]\n"
     ]
    }
   ],
   "source": [
    "print(\"Результат:\", np.flip(np.arange(10)))"
   ]
  },
  {
   "cell_type": "markdown",
   "metadata": {},
   "source": [
    "### Задание 2"
   ]
  },
  {
   "cell_type": "code",
   "execution_count": 3,
   "metadata": {},
   "outputs": [
    {
     "name": "stdout",
     "output_type": "stream",
     "text": [
      "[[4 0 0 0 0]\n",
      " [0 3 0 0 0]\n",
      " [0 0 2 0 0]\n",
      " [0 0 0 1 0]\n",
      " [0 0 0 0 0]]\n",
      "\n",
      "Сумма элементов по диагонали: 10\n"
     ]
    }
   ],
   "source": [
    "mtx = np.diag(np.flip(np.arange(5)))\n",
    "\n",
    "print(mtx)\n",
    "print()\n",
    "print(\"Сумма элементов по диагонали:\", np.trace(mtx))"
   ]
  },
  {
   "cell_type": "markdown",
   "metadata": {},
   "source": [
    "### Задание 3"
   ]
  },
  {
   "cell_type": "code",
   "execution_count": 4,
   "metadata": {},
   "outputs": [
    {
     "name": "stdout",
     "output_type": "stream",
     "text": [
      "x = 0.47, y = 3.84, z = -5.56\n"
     ]
    }
   ],
   "source": [
    "coef = np.array([[4, 2, 1], [1, 3, 0], [0, 5, 4]])\n",
    "res = np.array([4, 12, -3])\n",
    "\n",
    "roots = np.linalg.solve(coef, res)\n",
    "\n",
    "print(f\"x = {round(roots[0], 2)}, y = {round(roots[1], 2)}, z = {round(roots[2], 2)}\")"
   ]
  },
  {
   "cell_type": "markdown",
   "metadata": {},
   "source": [
    "### Задание 4"
   ]
  },
  {
   "cell_type": "code",
   "execution_count": 5,
   "metadata": {},
   "outputs": [
    {
     "name": "stdout",
     "output_type": "stream",
     "text": [
      "\n",
      "ID самого похожего пользователя: 8\n"
     ]
    }
   ],
   "source": [
    "def find_similar_coef(a, b):\n",
    "    norms = np.linalg.norm(a) * np.linalg.norm(b)\n",
    "    return round(np.dot(a, b) / norms, 2)\n",
    "\n",
    "\n",
    "users_stats = np.array([\n",
    "    [2, 1, 0, 0, 0, 0],\n",
    "    [1, 1, 2, 1, 0, 0],\n",
    "    [2, 0, 1, 0, 0, 0],\n",
    "    [1, 1, 2, 1, 0, 1],\n",
    "    [0, 0, 1, 2, 0, 0],\n",
    "    [0, 0, 0, 0, 0, 5],\n",
    "    [1, 0, 0, 0, 0, 0],\n",
    "    [0, 1, 1, 0, 0, 0],\n",
    "    [0, 0, 0, 1, 1, 3],\n",
    "    [1, 0, 0, 2, 1, 4]\n",
    "], np.int32)\n",
    "\n",
    "next_user_stats = np.array([0, 1, 2, 0, 0, 0])\n",
    "\n",
    "most_similar_user = -1\n",
    "most_similar_coef = 0\n",
    "for user_id, user_stats in enumerate(users_stats):\n",
    "    cur_coef = find_similar_coef(user_stats, next_user_stats)\n",
    "    if cur_coef > most_similar_coef:\n",
    "        most_similar_coef = cur_coef\n",
    "        most_similar_user = user_id + 1\n",
    "\n",
    "print()\n",
    "print(\"ID самого похожего пользователя:\", most_similar_user)"
   ]
  }
 ],
 "metadata": {
  "kernelspec": {
   "display_name": "Python 3",
   "language": "python",
   "name": "python3"
  },
  "language_info": {
   "codemirror_mode": {
    "name": "ipython",
    "version": 3
   },
   "file_extension": ".py",
   "mimetype": "text/x-python",
   "name": "python",
   "nbconvert_exporter": "python",
   "pygments_lexer": "ipython3",
   "version": "3.8.5"
  }
 },
 "nbformat": 4,
 "nbformat_minor": 4
}
