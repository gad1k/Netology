{
 "cells": [
  {
   "cell_type": "markdown",
   "metadata": {},
   "source": [
    "### Задание 1"
   ]
  },
  {
   "cell_type": "code",
   "execution_count": 2,
   "metadata": {},
   "outputs": [
    {
     "name": "stdout",
     "output_type": "stream",
     "text": [
      "es\n"
     ]
    }
   ],
   "source": [
    "word = \"test\"\n",
    "\n",
    "if len(word) % 2 == 0:\n",
    "    letter_left = int(len(word) / 2 - 1)\n",
    "    letter_right = int(len(word) / 2 + 1)\n",
    "    print(word[letter_left:letter_right])\n",
    "else:\n",
    "    letter_middle = int(len(word) / 2)\n",
    "    print(word[letter_middle])"
   ]
  },
  {
   "cell_type": "markdown",
   "metadata": {},
   "source": [
    "### Задание 2"
   ]
  },
  {
   "cell_type": "code",
   "execution_count": 5,
   "metadata": {},
   "outputs": [
    {
     "name": "stdout",
     "output_type": "stream",
     "text": [
      "Введите число: 1\n",
      "Введите число: 4\n",
      "Введите число: 6\n",
      "Введите число: 0\n",
      "11\n"
     ]
    }
   ],
   "source": [
    "result = 0\n",
    "\n",
    "while True:\n",
    "    number = int(input(\"Введите число: \"))\n",
    "    if number == 0:\n",
    "        break\n",
    "    else:\n",
    "        result += number\n",
    "print(result)"
   ]
  },
  {
   "cell_type": "markdown",
   "metadata": {},
   "source": [
    "### Задание 3"
   ]
  },
  {
   "cell_type": "code",
   "execution_count": 6,
   "metadata": {},
   "outputs": [
    {
     "name": "stdout",
     "output_type": "stream",
     "text": [
      "Идеальные пары:\n",
      "Alex и Emma\n",
      "Arthur и Kate\n",
      "John и Kira\n",
      "Peter и Liza\n",
      "Richard и Trisha\n"
     ]
    }
   ],
   "source": [
    "boys = [\"Peter\", \"Alex\", \"John\", \"Arthur\", \"Richard\"]\n",
    "girls = [\"Kate\", \"Liza\", \"Kira\", \"Emma\", \"Trisha\"]\n",
    "\n",
    "if len(boys) == len(girls):\n",
    "    couples = list(zip(sorted(boys), sorted(girls)))\n",
    "    print(\"Идеальные пары:\")\n",
    "    for couple in couples:\n",
    "        print(couple[0], \"и\", couple[1])\n",
    "else:\n",
    "    print(\"Внимание, кто-то может остаться без пары!\")"
   ]
  },
  {
   "cell_type": "markdown",
   "metadata": {},
   "source": [
    "### Задание 4"
   ]
  },
  {
   "cell_type": "code",
   "execution_count": 7,
   "metadata": {},
   "outputs": [
    {
     "name": "stdout",
     "output_type": "stream",
     "text": [
      "Средняя температура в странах:\n",
      "Thailand - 23.86 C\n",
      "Germany - 13.8 C\n",
      "Russia - 3.71 C\n",
      "Poland - 12.0 C\n"
     ]
    }
   ],
   "source": [
    "import statistics\n",
    "\n",
    "countries_temperature = [\n",
    "    [\"Thailand\", [75.2, 77, 78.8, 73.4, 68, 75.2, 77]],\n",
    "    [\"Germany\", [57.2, 55.4, 59, 59, 53.6]],\n",
    "    [\"Russia\", [35.6, 37.4, 39.2, 41, 42.8, 39.2, 35.6]],\n",
    "    [\"Poland\", [50, 50, 53.6, 57.2, 55.4, 55.4]]\n",
    "]\n",
    "\n",
    "print(\"Средняя температура в странах:\")\n",
    "for country in countries_temperature:\n",
    "    temp_to_celsius = (statistics.mean(country[1]) - 32) / 1.8\n",
    "    print(country[0], \"-\", round(temp_to_celsius, 2), \"C\")"
   ]
  },
  {
   "cell_type": "markdown",
   "metadata": {},
   "source": [
    "### Задание 5 (необязательное)"
   ]
  },
  {
   "cell_type": "code",
   "execution_count": 11,
   "metadata": {},
   "outputs": [
    {
     "name": "stdout",
     "output_type": "stream",
     "text": [
      "Среднее количество просмотров на уникального пользователя: 11.62\n"
     ]
    }
   ],
   "source": [
    "stream = [\n",
    "    \"2018-01-01,user1,3\",\n",
    "    \"2018-01-07,user1,4\",\n",
    "    \"2018-03-29,user1,1\",\n",
    "    \"2018-04-04,user1,13\",\n",
    "    \"2018-01-05,user2,7\",\n",
    "    \"2018-06-14,user3,4\",\n",
    "    \"2018-07-02,user3,10\",\n",
    "    \"2018-03-21,user4,19\",\n",
    "    \"2018-03-22,user4,4\",\n",
    "    \"2018-04-22,user4,8\",\n",
    "    \"2018-05-03,user4,9\",\n",
    "    \"2018-05-11,user4,11\"\n",
    "]\n",
    "\n",
    "pages = 0\n",
    "users = []\n",
    "\n",
    "for line in stream:\n",
    "    parsed_line = line.split(\",\")\n",
    "    pages += int(parsed_line[2])\n",
    "    if parsedLine[1] not in users:\n",
    "        users.append(parsed_line[1])\n",
    "\n",
    "print(\"Среднее количество просмотров на уникального пользователя:\", round(pages / len(users), 2))"
   ]
  },
  {
   "cell_type": "markdown",
   "metadata": {},
   "source": [
    "### Задание 6 (необязательное)"
   ]
  },
  {
   "cell_type": "code",
   "execution_count": 14,
   "metadata": {},
   "outputs": [
    {
     "name": "stdout",
     "output_type": "stream",
     "text": [
      "Введите числа: 4 8 0 3 4 2 0 3\n",
      "Результат:\n",
      "0 3 4 "
     ]
    }
   ],
   "source": [
    "line = input(\"Введите числа: \")\n",
    "parsed_line = line.split(\" \")\n",
    "\n",
    "numbers = {}\n",
    "\n",
    "for key in parsed_line:\n",
    "    if key in numbers:\n",
    "        numbers[key] += 1\n",
    "    else:\n",
    "        numbers[key] = 1\n",
    "\n",
    "print(\"Результат:\")\n",
    "for key in sorted(numbers):\n",
    "    if numbers[key] > 1:\n",
    "        print(key, end=\" \")"
   ]
  }
 ],
 "metadata": {
  "kernelspec": {
   "display_name": "Python 3",
   "language": "python",
   "name": "python3"
  },
  "language_info": {
   "codemirror_mode": {
    "name": "ipython",
    "version": 3
   },
   "file_extension": ".py",
   "mimetype": "text/x-python",
   "name": "python",
   "nbconvert_exporter": "python",
   "pygments_lexer": "ipython3",
   "version": "3.8.5"
  }
 },
 "nbformat": 4,
 "nbformat_minor": 4
}
