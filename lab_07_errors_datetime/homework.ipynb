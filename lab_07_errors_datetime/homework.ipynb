{
 "cells": [
  {
   "cell_type": "markdown",
   "metadata": {},
   "source": [
    "### Задание 1"
   ]
  },
  {
   "cell_type": "code",
   "execution_count": 1,
   "metadata": {},
   "outputs": [
    {
     "name": "stdout",
     "output_type": "stream",
     "text": [
      "2002-10-02 00:00:00\n",
      "2013-10-11 00:00:00\n",
      "1977-08-18 00:00:00\n"
     ]
    }
   ],
   "source": [
    "from datetime import datetime\n",
    "\n",
    "the_moscow_times = datetime.strptime(\"Wednesday, October 2, 2002\", \"%A, %B %d, %Y\")\n",
    "the_guardian = datetime.strptime(\"Friday, 11.10.13\", \"%A, %d.%m.%y\")\n",
    "daily_news = datetime.strptime(\"Thursday, 18 August 1977\", \"%A, %d %B %Y\")\n",
    "\n",
    "print(the_moscow_times)\n",
    "print(the_guardian)\n",
    "print(daily_news)"
   ]
  },
  {
   "cell_type": "markdown",
   "metadata": {},
   "source": [
    "### Задание 2"
   ]
  },
  {
   "cell_type": "code",
   "execution_count": 2,
   "metadata": {},
   "outputs": [
    {
     "name": "stdout",
     "output_type": "stream",
     "text": [
      "2018-04-02: True\n",
      "2018-02-29: False\n",
      "2018-19-02: False\n"
     ]
    }
   ],
   "source": [
    "from datetime import datetime\n",
    "\n",
    "def check_date(date: str) -> bool:\n",
    "    try:\n",
    "        datetime.strptime(date, \"%Y-%m-%d\")\n",
    "        return True\n",
    "    except ValueError:\n",
    "        return False\n",
    "    \n",
    "stream = [\"2018-04-02\", \"2018-02-29\", \"2018-19-02\"]\n",
    "\n",
    "for i in stream:\n",
    "    print(f\"{i}: {check_date(i)}\")"
   ]
  },
  {
   "cell_type": "markdown",
   "metadata": {},
   "source": [
    "### Задание 3"
   ]
  },
  {
   "cell_type": "code",
   "execution_count": 3,
   "metadata": {},
   "outputs": [
    {
     "name": "stdout",
     "output_type": "stream",
     "text": [
      "['2020-11-01', '2020-11-02', '2020-11-03', '2020-11-04', '2020-11-05', '2020-11-06']\n",
      "[]\n",
      "[]\n"
     ]
    }
   ],
   "source": [
    "from datetime import datetime\n",
    "from datetime import timedelta\n",
    "\n",
    "\n",
    "def date_range(p_start_date: str, p_end_date: str) -> list:\n",
    "    result = list()\n",
    "\n",
    "    try:\n",
    "        start_date = datetime.strptime(p_start_date, \"%Y-%m-%d\")\n",
    "        end_date = datetime.strptime(p_end_date, \"%Y-%m-%d\")\n",
    "    except ValueError:\n",
    "        return result\n",
    "\n",
    "    if start_date > end_date:\n",
    "        return result\n",
    "    else:\n",
    "        current_date = start_date\n",
    "        while current_date <= end_date:\n",
    "            result.append(current_date.strftime(\"%Y-%m-%d\"))\n",
    "            current_date += timedelta(days=1)\n",
    "        return result\n",
    "\n",
    "\n",
    "print(date_range(\"2020-11-01\", \"2020-11-06\"))\n",
    "print(date_range(\"2020-12-01\", \"2020-11-06\"))\n",
    "print(date_range(\"2020-11-01\", \"2020-22-06\"))"
   ]
  },
  {
   "cell_type": "markdown",
   "metadata": {},
   "source": [
    "### Задание 4 (бонусное)"
   ]
  },
  {
   "cell_type": "markdown",
   "metadata": {},
   "source": [
    "1. Данная ошибка означает - выход за пределы списка, т.е. происходит обращение к несуществущему элементу\n",
    "2. По окончанию выполения функции в первый раз список default_list содержит два элемента, соотвественно обращение к элементу [-2] является корректным. После выполнения функции во второй раз в списке default_list остается всего лишь один элемент. С этого момента обращение к элементу [-2] является уже неверным, что и приводит к ошибке."
   ]
  }
 ],
 "metadata": {
  "kernelspec": {
   "display_name": "Python 3",
   "language": "python",
   "name": "python3"
  },
  "language_info": {
   "codemirror_mode": {
    "name": "ipython",
    "version": 3
   },
   "file_extension": ".py",
   "mimetype": "text/x-python",
   "name": "python",
   "nbconvert_exporter": "python",
   "pygments_lexer": "ipython3",
   "version": "3.8.5"
  }
 },
 "nbformat": 4,
 "nbformat_minor": 4
}
