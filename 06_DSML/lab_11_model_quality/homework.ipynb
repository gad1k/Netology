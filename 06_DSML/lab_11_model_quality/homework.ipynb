{
 "cells": [
  {
   "cell_type": "code",
   "execution_count": 1,
   "id": "df8a40a8",
   "metadata": {},
   "outputs": [],
   "source": [
    "import pandas as pd\n",
    "\n",
    "from sklearn import datasets\n",
    "from sklearn.model_selection import train_test_split, RandomizedSearchCV\n",
    "from sklearn.linear_model import Ridge, Lasso, ElasticNet\n",
    "from sklearn.ensemble import RandomForestRegressor, GradientBoostingRegressor\n",
    "from sklearn.tree import DecisionTreeRegressor\n",
    "from sklearn.neighbors import KNeighborsRegressor\n",
    "from scipy.stats import uniform"
   ]
  },
  {
   "cell_type": "markdown",
   "id": "700ac5de",
   "metadata": {},
   "source": [
    "### Задание 1"
   ]
  },
  {
   "cell_type": "code",
   "execution_count": 2,
   "id": "dcb29776",
   "metadata": {},
   "outputs": [],
   "source": [
    "data = pd.read_csv(datasets.load_boston()[\"filename\"], skiprows = 1)"
   ]
  },
  {
   "cell_type": "code",
   "execution_count": 3,
   "id": "8644c192",
   "metadata": {},
   "outputs": [
    {
     "data": {
      "text/html": [
       "<div>\n",
       "<style scoped>\n",
       "    .dataframe tbody tr th:only-of-type {\n",
       "        vertical-align: middle;\n",
       "    }\n",
       "\n",
       "    .dataframe tbody tr th {\n",
       "        vertical-align: top;\n",
       "    }\n",
       "\n",
       "    .dataframe thead th {\n",
       "        text-align: right;\n",
       "    }\n",
       "</style>\n",
       "<table border=\"1\" class=\"dataframe\">\n",
       "  <thead>\n",
       "    <tr style=\"text-align: right;\">\n",
       "      <th></th>\n",
       "      <th>CRIM</th>\n",
       "      <th>ZN</th>\n",
       "      <th>INDUS</th>\n",
       "      <th>CHAS</th>\n",
       "      <th>NOX</th>\n",
       "      <th>RM</th>\n",
       "      <th>AGE</th>\n",
       "      <th>DIS</th>\n",
       "      <th>RAD</th>\n",
       "      <th>TAX</th>\n",
       "      <th>PTRATIO</th>\n",
       "      <th>B</th>\n",
       "      <th>LSTAT</th>\n",
       "      <th>MEDV</th>\n",
       "    </tr>\n",
       "  </thead>\n",
       "  <tbody>\n",
       "    <tr>\n",
       "      <th>0</th>\n",
       "      <td>0.00632</td>\n",
       "      <td>18.0</td>\n",
       "      <td>2.31</td>\n",
       "      <td>0</td>\n",
       "      <td>0.538</td>\n",
       "      <td>6.575</td>\n",
       "      <td>65.2</td>\n",
       "      <td>4.0900</td>\n",
       "      <td>1</td>\n",
       "      <td>296</td>\n",
       "      <td>15.3</td>\n",
       "      <td>396.90</td>\n",
       "      <td>4.98</td>\n",
       "      <td>24.0</td>\n",
       "    </tr>\n",
       "    <tr>\n",
       "      <th>1</th>\n",
       "      <td>0.02731</td>\n",
       "      <td>0.0</td>\n",
       "      <td>7.07</td>\n",
       "      <td>0</td>\n",
       "      <td>0.469</td>\n",
       "      <td>6.421</td>\n",
       "      <td>78.9</td>\n",
       "      <td>4.9671</td>\n",
       "      <td>2</td>\n",
       "      <td>242</td>\n",
       "      <td>17.8</td>\n",
       "      <td>396.90</td>\n",
       "      <td>9.14</td>\n",
       "      <td>21.6</td>\n",
       "    </tr>\n",
       "    <tr>\n",
       "      <th>2</th>\n",
       "      <td>0.02729</td>\n",
       "      <td>0.0</td>\n",
       "      <td>7.07</td>\n",
       "      <td>0</td>\n",
       "      <td>0.469</td>\n",
       "      <td>7.185</td>\n",
       "      <td>61.1</td>\n",
       "      <td>4.9671</td>\n",
       "      <td>2</td>\n",
       "      <td>242</td>\n",
       "      <td>17.8</td>\n",
       "      <td>392.83</td>\n",
       "      <td>4.03</td>\n",
       "      <td>34.7</td>\n",
       "    </tr>\n",
       "    <tr>\n",
       "      <th>3</th>\n",
       "      <td>0.03237</td>\n",
       "      <td>0.0</td>\n",
       "      <td>2.18</td>\n",
       "      <td>0</td>\n",
       "      <td>0.458</td>\n",
       "      <td>6.998</td>\n",
       "      <td>45.8</td>\n",
       "      <td>6.0622</td>\n",
       "      <td>3</td>\n",
       "      <td>222</td>\n",
       "      <td>18.7</td>\n",
       "      <td>394.63</td>\n",
       "      <td>2.94</td>\n",
       "      <td>33.4</td>\n",
       "    </tr>\n",
       "    <tr>\n",
       "      <th>4</th>\n",
       "      <td>0.06905</td>\n",
       "      <td>0.0</td>\n",
       "      <td>2.18</td>\n",
       "      <td>0</td>\n",
       "      <td>0.458</td>\n",
       "      <td>7.147</td>\n",
       "      <td>54.2</td>\n",
       "      <td>6.0622</td>\n",
       "      <td>3</td>\n",
       "      <td>222</td>\n",
       "      <td>18.7</td>\n",
       "      <td>396.90</td>\n",
       "      <td>5.33</td>\n",
       "      <td>36.2</td>\n",
       "    </tr>\n",
       "  </tbody>\n",
       "</table>\n",
       "</div>"
      ],
      "text/plain": [
       "      CRIM    ZN  INDUS  CHAS    NOX     RM   AGE     DIS  RAD  TAX  PTRATIO  \\\n",
       "0  0.00632  18.0   2.31     0  0.538  6.575  65.2  4.0900    1  296     15.3   \n",
       "1  0.02731   0.0   7.07     0  0.469  6.421  78.9  4.9671    2  242     17.8   \n",
       "2  0.02729   0.0   7.07     0  0.469  7.185  61.1  4.9671    2  242     17.8   \n",
       "3  0.03237   0.0   2.18     0  0.458  6.998  45.8  6.0622    3  222     18.7   \n",
       "4  0.06905   0.0   2.18     0  0.458  7.147  54.2  6.0622    3  222     18.7   \n",
       "\n",
       "        B  LSTAT  MEDV  \n",
       "0  396.90   4.98  24.0  \n",
       "1  396.90   9.14  21.6  \n",
       "2  392.83   4.03  34.7  \n",
       "3  394.63   2.94  33.4  \n",
       "4  396.90   5.33  36.2  "
      ]
     },
     "execution_count": 3,
     "metadata": {},
     "output_type": "execute_result"
    }
   ],
   "source": [
    "data.head()"
   ]
  },
  {
   "cell_type": "code",
   "execution_count": 4,
   "id": "2bd87993",
   "metadata": {},
   "outputs": [],
   "source": [
    "X = data.drop(\"MEDV\", axis = 1)\n",
    "Y = data[\"MEDV\"]\n",
    "\n",
    "X_train, X_test, Y_train, Y_test = train_test_split(X, Y, test_size = 0.3)"
   ]
  },
  {
   "cell_type": "code",
   "execution_count": 5,
   "id": "8cd6d7c3",
   "metadata": {},
   "outputs": [],
   "source": [
    "models = [ \n",
    "    {\"name\": \"Ridge\", \"model\": Ridge(), \"params\": {\"alpha\": uniform(loc = 0, scale = 5), \"solver\": [\"svd\", \"cholesky\", \"lsqr\", \"sparse_cg\", \"sag\", \"saga\"]}},\n",
    "    {\"name\": \"Lasso\", \"model\": Lasso(), \"params\": {\"alpha\": uniform(loc = 0, scale = 5), \"selection\": [\"cyclic\", \"random\"]}},\n",
    "    {\"name\": \"ElasticNet\", \"model\": ElasticNet(), \"params\": {\"alpha\": uniform(loc = 0, scale = 5), \"selection\": [\"cyclic\", \"random\"]}},\n",
    "    {\"name\": \"DecisionTreeRegressor\", \"model\": DecisionTreeRegressor(), \"params\": {\"splitter\": [\"best\", \"random\"], \"max_depth\": [3, 5, 7, 9, 11], \"criterion\": [\"mse\", \"friedman_mse\", \"mae\", \"poisson\"]}},\n",
    "    {\"name\": \"RandomForestRegressor\", \"model\": RandomForestRegressor(), \"params\": {\"n_estimators\": [10, 25, 50, 100, 150, 200], \"max_depth\": [3, 5, 7, 9, 11], \"criterion\": [\"mse\", \"mae\"]}},\n",
    "    {\"name\": \"GradientBoostingRegressor\", \"model\": GradientBoostingRegressor(), \"params\": {\"max_depth\": [3, 5, 7, 9, 11], \"loss\": [\"ls\", \"lad\", \"huber\", \"quantile\"], \"criterion\": [\"friedman_mse\", \"mse\"]}},\n",
    "    {\"name\": \"KNeighborsRegressor\", \"model\": KNeighborsRegressor(), \"params\": {\"weights\": [\"uniform\", \"distance\"], \"p\": [1, 2, 3], \"n_neighbors\": list(range(1, 30))}}\n",
    "]"
   ]
  },
  {
   "cell_type": "code",
   "execution_count": 6,
   "id": "7648d368",
   "metadata": {},
   "outputs": [
    {
     "name": "stdout",
     "output_type": "stream",
     "text": [
      "Ridge 0.7325 {'alpha': 0.5081022443679084, 'solver': 'svd'}\n",
      "Lasso 0.6283 {'alpha': 1.8617473953236314, 'selection': 'cyclic'}\n",
      "ElasticNet 0.7205 {'alpha': 0.04316001055922114, 'selection': 'random'}\n",
      "DecisionTreeRegressor 0.7642 {'splitter': 'random', 'max_depth': 5, 'criterion': 'mse'}\n",
      "RandomForestRegressor 0.8477 {'n_estimators': 50, 'max_depth': 11, 'criterion': 'mse'}\n",
      "GradientBoostingRegressor 0.868 {'max_depth': 5, 'loss': 'ls', 'criterion': 'mse'}\n",
      "KNeighborsRegressor 0.6489 {'weights': 'distance', 'p': 1, 'n_neighbors': 7}\n"
     ]
    }
   ],
   "source": [
    "results = []\n",
    "\n",
    "for model in models:\n",
    "    results.append((model[\"name\"], RandomizedSearchCV(model[\"model\"], model[\"params\"], cv = 10).fit(X_train, Y_train)))\n",
    "    \n",
    "for result in results:\n",
    "    print(result[0], round(result[1].best_score_, 4), result[1].best_params_)"
   ]
  },
  {
   "cell_type": "markdown",
   "id": "9bfc1a9e",
   "metadata": {},
   "source": [
    "Проверим лучшую модель на тестовых данных."
   ]
  },
  {
   "cell_type": "code",
   "execution_count": 7,
   "id": "f129abd3",
   "metadata": {},
   "outputs": [
    {
     "name": "stdout",
     "output_type": "stream",
     "text": [
      "Точность предсказания: 0.869\n"
     ]
    }
   ],
   "source": [
    "print(\"Точность предсказания:\", round(results[5][1].best_estimator_.score(X_test, Y_test), 4))"
   ]
  }
 ],
 "metadata": {
  "kernelspec": {
   "display_name": "Python 3",
   "language": "python",
   "name": "python3"
  },
  "language_info": {
   "codemirror_mode": {
    "name": "ipython",
    "version": 3
   },
   "file_extension": ".py",
   "mimetype": "text/x-python",
   "name": "python",
   "nbconvert_exporter": "python",
   "pygments_lexer": "ipython3",
   "version": "3.8.8"
  }
 },
 "nbformat": 4,
 "nbformat_minor": 5
}
