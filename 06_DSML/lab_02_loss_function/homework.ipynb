{
 "cells": [
  {
   "cell_type": "code",
   "execution_count": 1,
   "id": "f4fba381",
   "metadata": {},
   "outputs": [],
   "source": [
    "import numpy as np\n",
    "\n",
    "from sklearn import datasets"
   ]
  },
  {
   "cell_type": "markdown",
   "id": "6250db28",
   "metadata": {},
   "source": [
    "### Задание 1"
   ]
  },
  {
   "cell_type": "code",
   "execution_count": 2,
   "id": "128a16ca",
   "metadata": {},
   "outputs": [],
   "source": [
    "def predict(X, W, b):\n",
    "    z = X.dot(W) + b\n",
    "    \n",
    "    return (1 / (1 + np.exp(-z))).reshape(100, 1)"
   ]
  },
  {
   "cell_type": "code",
   "execution_count": 3,
   "id": "e2c563f1",
   "metadata": {},
   "outputs": [],
   "source": [
    "iris = datasets.load_iris()"
   ]
  },
  {
   "cell_type": "code",
   "execution_count": 4,
   "id": "aa8acc1a",
   "metadata": {},
   "outputs": [],
   "source": [
    "X = iris.data[50:,:]\n",
    "Y = (iris.target[50:] - 1).reshape(100, 1)"
   ]
  },
  {
   "cell_type": "markdown",
   "id": "f6ba75d5",
   "metadata": {},
   "source": [
    "#### Метод градиентного спуска"
   ]
  },
  {
   "cell_type": "code",
   "execution_count": 5,
   "id": "ea438756",
   "metadata": {},
   "outputs": [
    {
     "name": "stdout",
     "output_type": "stream",
     "text": [
      "Точность предсказания: 93%\n"
     ]
    }
   ],
   "source": [
    "epochs = 50\n",
    "\n",
    "learning_rate = 0.05\n",
    "\n",
    "W = [0, -1, 0, 1]\n",
    "b = 0\n",
    "\n",
    "for _ in range(epochs):\n",
    "    A = predict(X, W, b)\n",
    "\n",
    "    dw = np.sum((A - Y) * X, axis=0) / len(A)\n",
    "    db = np.sum(A - Y) / len(A)\n",
    "\n",
    "    W -= learning_rate * dw\n",
    "    b -= learning_rate * db\n",
    "    \n",
    "print(f\"Точность предсказания: {np.sum(np.around(predict(X, W, b)) == Y)}%\")"
   ]
  },
  {
   "cell_type": "markdown",
   "id": "a2c3b744",
   "metadata": {},
   "source": [
    "#### Метод Nesterov Momentum"
   ]
  },
  {
   "cell_type": "code",
   "execution_count": 6,
   "id": "0040f6fc",
   "metadata": {},
   "outputs": [
    {
     "name": "stdout",
     "output_type": "stream",
     "text": [
      "Точность предсказания: 90%\n"
     ]
    }
   ],
   "source": [
    "epochs = 50\n",
    "\n",
    "learning_rate = 0.05\n",
    "gamma = 0.975\n",
    "\n",
    "W = [-1, -1, 1,  0]\n",
    "b = -1\n",
    "\n",
    "dw = np.zeros(4)\n",
    "db = 0\n",
    "    \n",
    "for _ in range(epochs):\n",
    "    A = predict(X, W - gamma * dw, b - gamma * db)\n",
    "    \n",
    "    dw = (gamma * dw + learning_rate * np.sum((A - Y) * X, axis=0)) / len(A)\n",
    "    db = (gamma * db + learning_rate * np.sum(A - Y)) / len(A)\n",
    "    \n",
    "    W -= dw \n",
    "    b -= db\n",
    "    \n",
    "print(f\"Точность предсказания: {np.sum(np.around(predict(X, W, b)) == Y)}%\")"
   ]
  },
  {
   "cell_type": "markdown",
   "id": "63feadf9",
   "metadata": {},
   "source": [
    "#### Метод RMSProp"
   ]
  },
  {
   "cell_type": "code",
   "execution_count": 7,
   "id": "49e77cc3",
   "metadata": {},
   "outputs": [
    {
     "name": "stdout",
     "output_type": "stream",
     "text": [
      "Точность предсказания: 92%\n"
     ]
    }
   ],
   "source": [
    "epochs = 50\n",
    "\n",
    "learning_rate = 0.05\n",
    "gamma = 0.975\n",
    "eps = 0.00000001\n",
    "\n",
    "W = [0, 0, 0, -1]\n",
    "b = -1\n",
    "\n",
    "e_dw2 = np.zeros(4)\n",
    "e_db2 = 0\n",
    "\n",
    "for _ in range(epochs):\n",
    "    A = predict(X, W, b)\n",
    "    \n",
    "    dw = np.sum((A - Y) * X, axis=0) / len(A)\n",
    "    db = np.sum(A - Y) / len(A)\n",
    "    \n",
    "    e_dw2 = gamma * e_dw2 + (1 - gamma) * dw ** 2\n",
    "    e_db2 = gamma * e_db2 + (1 - gamma) * db ** 2\n",
    "    \n",
    "    W -= learning_rate * dw / np.sqrt(e_dw2 + eps) \n",
    "    b -= learning_rate * db / np.sqrt(e_db2 + eps)\n",
    "    \n",
    "print(f\"Точность предсказания: {np.sum(np.around(predict(X, W, b)) == Y)}%\")"
   ]
  }
 ],
 "metadata": {
  "kernelspec": {
   "display_name": "Python 3",
   "language": "python",
   "name": "python3"
  },
  "language_info": {
   "codemirror_mode": {
    "name": "ipython",
    "version": 3
   },
   "file_extension": ".py",
   "mimetype": "text/x-python",
   "name": "python",
   "nbconvert_exporter": "python",
   "pygments_lexer": "ipython3",
   "version": "3.8.8"
  }
 },
 "nbformat": 4,
 "nbformat_minor": 5
}
