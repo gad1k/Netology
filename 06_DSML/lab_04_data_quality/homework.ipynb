{
 "cells": [
  {
   "cell_type": "code",
   "execution_count": 1,
   "id": "db5e7682",
   "metadata": {},
   "outputs": [],
   "source": [
    "import pandas as pd\n",
    "import numpy as np\n",
    "\n",
    "from sklearn.linear_model import LinearRegression\n",
    "from sklearn.preprocessing import PolynomialFeatures\n",
    "from sklearn.metrics import mean_absolute_error"
   ]
  },
  {
   "cell_type": "markdown",
   "id": "c64b6d82",
   "metadata": {},
   "source": [
    "### Задание 1"
   ]
  },
  {
   "cell_type": "markdown",
   "id": "cf80eb42",
   "metadata": {},
   "source": [
    "#### Создание тестового набора данных"
   ]
  },
  {
   "cell_type": "markdown",
   "id": "3530b5ae",
   "metadata": {},
   "source": [
    "Данный датасет представляет собой информацию о параметрах жилого помещения и его стоимости. Причём так сложилось, что на стоимость данных жилых помещений оказывают большое влияние 2 параметра: количество комнат и год постройки. Оставшиеся два параметра (площадь и количество гаражей) несущественны."
   ]
  },
  {
   "cell_type": "code",
   "execution_count": 2,
   "id": "afa18005",
   "metadata": {},
   "outputs": [],
   "source": [
    "samples = 100\n",
    "\n",
    "square = np.random.randint(35, 120, samples)\n",
    "num_rooms = np.random.randint(1, 5, samples)\n",
    "num_garage = np.random.randint(0, 2, samples)\n",
    "built_year = np.random.randint(1, 100, samples)\n",
    "\n",
    "price =  num_rooms * built_year + num_rooms ** 2\n",
    "\n",
    "data = pd.DataFrame({\"square\": square, \"num_rooms\": num_rooms, \"num_garage\": num_garage, \"built_year\": built_year, \"price\": price})"
   ]
  },
  {
   "cell_type": "code",
   "execution_count": 3,
   "id": "3127e2c3",
   "metadata": {},
   "outputs": [
    {
     "data": {
      "text/html": [
       "<div>\n",
       "<style scoped>\n",
       "    .dataframe tbody tr th:only-of-type {\n",
       "        vertical-align: middle;\n",
       "    }\n",
       "\n",
       "    .dataframe tbody tr th {\n",
       "        vertical-align: top;\n",
       "    }\n",
       "\n",
       "    .dataframe thead th {\n",
       "        text-align: right;\n",
       "    }\n",
       "</style>\n",
       "<table border=\"1\" class=\"dataframe\">\n",
       "  <thead>\n",
       "    <tr style=\"text-align: right;\">\n",
       "      <th></th>\n",
       "      <th>square</th>\n",
       "      <th>num_rooms</th>\n",
       "      <th>num_garage</th>\n",
       "      <th>built_year</th>\n",
       "      <th>price</th>\n",
       "    </tr>\n",
       "  </thead>\n",
       "  <tbody>\n",
       "    <tr>\n",
       "      <th>count</th>\n",
       "      <td>100.00000</td>\n",
       "      <td>100.000000</td>\n",
       "      <td>100.000000</td>\n",
       "      <td>100.000000</td>\n",
       "      <td>100.00000</td>\n",
       "    </tr>\n",
       "    <tr>\n",
       "      <th>mean</th>\n",
       "      <td>77.55000</td>\n",
       "      <td>2.400000</td>\n",
       "      <td>0.560000</td>\n",
       "      <td>54.140000</td>\n",
       "      <td>133.59000</td>\n",
       "    </tr>\n",
       "    <tr>\n",
       "      <th>std</th>\n",
       "      <td>22.73669</td>\n",
       "      <td>0.994937</td>\n",
       "      <td>0.498888</td>\n",
       "      <td>26.253627</td>\n",
       "      <td>86.22839</td>\n",
       "    </tr>\n",
       "    <tr>\n",
       "      <th>min</th>\n",
       "      <td>35.00000</td>\n",
       "      <td>1.000000</td>\n",
       "      <td>0.000000</td>\n",
       "      <td>5.000000</td>\n",
       "      <td>12.00000</td>\n",
       "    </tr>\n",
       "    <tr>\n",
       "      <th>25%</th>\n",
       "      <td>58.75000</td>\n",
       "      <td>2.000000</td>\n",
       "      <td>0.000000</td>\n",
       "      <td>34.250000</td>\n",
       "      <td>68.00000</td>\n",
       "    </tr>\n",
       "    <tr>\n",
       "      <th>50%</th>\n",
       "      <td>78.00000</td>\n",
       "      <td>2.000000</td>\n",
       "      <td>1.000000</td>\n",
       "      <td>52.000000</td>\n",
       "      <td>114.00000</td>\n",
       "    </tr>\n",
       "    <tr>\n",
       "      <th>75%</th>\n",
       "      <td>98.00000</td>\n",
       "      <td>3.000000</td>\n",
       "      <td>1.000000</td>\n",
       "      <td>78.000000</td>\n",
       "      <td>174.75000</td>\n",
       "    </tr>\n",
       "    <tr>\n",
       "      <th>max</th>\n",
       "      <td>119.00000</td>\n",
       "      <td>4.000000</td>\n",
       "      <td>1.000000</td>\n",
       "      <td>99.000000</td>\n",
       "      <td>412.00000</td>\n",
       "    </tr>\n",
       "  </tbody>\n",
       "</table>\n",
       "</div>"
      ],
      "text/plain": [
       "          square   num_rooms  num_garage  built_year      price\n",
       "count  100.00000  100.000000  100.000000  100.000000  100.00000\n",
       "mean    77.55000    2.400000    0.560000   54.140000  133.59000\n",
       "std     22.73669    0.994937    0.498888   26.253627   86.22839\n",
       "min     35.00000    1.000000    0.000000    5.000000   12.00000\n",
       "25%     58.75000    2.000000    0.000000   34.250000   68.00000\n",
       "50%     78.00000    2.000000    1.000000   52.000000  114.00000\n",
       "75%     98.00000    3.000000    1.000000   78.000000  174.75000\n",
       "max    119.00000    4.000000    1.000000   99.000000  412.00000"
      ]
     },
     "execution_count": 3,
     "metadata": {},
     "output_type": "execute_result"
    }
   ],
   "source": [
    "data.describe()"
   ]
  },
  {
   "cell_type": "markdown",
   "id": "e20240e8",
   "metadata": {},
   "source": [
    "#### Поиск модели"
   ]
  },
  {
   "cell_type": "code",
   "execution_count": 4,
   "id": "c3a50579",
   "metadata": {},
   "outputs": [],
   "source": [
    "model = LinearRegression()"
   ]
  },
  {
   "cell_type": "markdown",
   "id": "902db42b",
   "metadata": {},
   "source": [
    "Т.к. мы \"не знаем\" закона, которому подчиняются данные для предсказания цены, то сделаем первое предположение, что цена в какой-то мере зависит от площади и количества комнат."
   ]
  },
  {
   "cell_type": "code",
   "execution_count": 5,
   "id": "c0f6c10f",
   "metadata": {},
   "outputs": [
    {
     "name": "stdout",
     "output_type": "stream",
     "text": [
      "Точность предсказания:  0.3247\n",
      "MAE:  54.3047\n",
      "Веса модели:  [-0.3233, 47.4161]\n"
     ]
    }
   ],
   "source": [
    "X = data[[\"square\", \"num_rooms\"]]\n",
    "Y = data[\"price\"]\n",
    "\n",
    "model.fit(X, Y)\n",
    "predictions = model.predict(X)\n",
    "\n",
    "print(\"Точность предсказания: \", round(model.score(X, Y), 4))\n",
    "print(\"MAE: \", round(mean_absolute_error(predictions, Y), 4))\n",
    "print(\"Веса модели: \", [round(weight, 4) for weight in model.coef_])"
   ]
  },
  {
   "cell_type": "markdown",
   "id": "1844acc9",
   "metadata": {},
   "source": [
    "Как видно из результатов, наша модель имеет малую точность предсказания (всего 32%). Также параметр МАЕ является не очень удовлетворительным, т.к. при mean/min/max равных 134/12/412 в среднем ошибаться на 54 довольно плохо."
   ]
  },
  {
   "cell_type": "markdown",
   "id": "92967944",
   "metadata": {},
   "source": [
    "Попробуем, например, заменить параметр количество комнат на год постройки."
   ]
  },
  {
   "cell_type": "code",
   "execution_count": 6,
   "id": "afdc5d57",
   "metadata": {},
   "outputs": [
    {
     "name": "stdout",
     "output_type": "stream",
     "text": [
      "Точность предсказания:  0.5132\n",
      "MAE:  47.6112\n",
      "Веса модели:  [-0.6234, 2.269]\n"
     ]
    }
   ],
   "source": [
    "X = data[[\"square\", \"built_year\"]]\n",
    "Y = data[\"price\"]\n",
    "\n",
    "model.fit(X, Y)\n",
    "predictions = model.predict(X)\n",
    "\n",
    "print(\"Точность предсказания: \", round(model.score(X, Y), 4))\n",
    "print(\"MAE: \", round(mean_absolute_error(predictions, Y), 4))\n",
    "print(\"Веса модели: \", [round(weight, 4) for weight in model.coef_])"
   ]
  },
  {
   "cell_type": "markdown",
   "id": "116a8936",
   "metadata": {},
   "source": [
    "Результаты немного улучшились, но, по-прежнему, являются неудовлетворительными.\n",
    "\n",
    "Возьмём предельный случай и предположим, что цена зависит от всех признаков."
   ]
  },
  {
   "cell_type": "code",
   "execution_count": 7,
   "id": "ed0381a5",
   "metadata": {},
   "outputs": [
    {
     "name": "stdout",
     "output_type": "stream",
     "text": [
      "Точность предсказания:  0.9129\n",
      "MAE:  18.4053\n",
      "Веса модели:  [-0.1118, 56.0308, -5.7197, 2.5562]\n"
     ]
    }
   ],
   "source": [
    "X = data[[\"square\", \"num_rooms\", \"num_garage\", \"built_year\"]]\n",
    "Y = data[\"price\"]\n",
    "\n",
    "model.fit(X, Y)\n",
    "predictions = model.predict(X)\n",
    "\n",
    "print(\"Точность предсказания: \", round(model.score(X, Y), 4))\n",
    "print(\"MAE: \", round(mean_absolute_error(predictions, Y), 4))\n",
    "print(\"Веса модели: \", [round(weight, 4) for weight in model.coef_])"
   ]
  },
  {
   "cell_type": "markdown",
   "id": "03b57eeb",
   "metadata": {},
   "source": [
    "В этот раз результаты намного лучше. Их в принципе можно считать удовлетворительными, даже без учёта ввода дополнительных параметров. Но можно ли улучшить модель? Попробуем для начала воспользоваться полиномиальными функциями."
   ]
  },
  {
   "cell_type": "code",
   "execution_count": 8,
   "id": "9800d107",
   "metadata": {},
   "outputs": [
    {
     "name": "stdout",
     "output_type": "stream",
     "text": [
      "Варианты коэффициентов:  ['1', 'x0', 'x1', 'x2', 'x3', 'x0^2', 'x0 x1', 'x0 x2', 'x0 x3', 'x1^2', 'x1 x2', 'x1 x3', 'x2^2', 'x2 x3', 'x3^2']\n",
      "Значения коэффициентов:  [0, 0, 0, 0, 0, 0, 0, 0, 0, 1, 0, 1, 0, 0, 0]\n"
     ]
    }
   ],
   "source": [
    "pf = PolynomialFeatures(2)\n",
    "\n",
    "X = pf.fit_transform(data[[\"square\", \"num_rooms\", \"num_garage\", \"built_year\"]])\n",
    "Y = data[\"price\"]\n",
    "\n",
    "model.fit(X, Y)\n",
    "\n",
    "print(\"Варианты коэффициентов: \", pf.get_feature_names())\n",
    "print(\"Значения коэффициентов: \", [round(weight) for weight in model.coef_])"
   ]
  },
  {
   "cell_type": "markdown",
   "id": "ca5af25a",
   "metadata": {},
   "source": [
    "Как видно из расчётов, следующие комбинации коэффициентов: 1 * x1 * x2 и 1 * x2 ** 2 (т.е. 1 * num_rooms * built_year и num_rooms ** 2) - являются существенными для данного датасета. Попробуем добавить в наш датасет два новых параметра: num_rooms_built_year и num_rooms_2."
   ]
  },
  {
   "cell_type": "code",
   "execution_count": 9,
   "id": "634e37af",
   "metadata": {},
   "outputs": [],
   "source": [
    "data[\"num_rooms_built_year\"] = data[\"num_rooms\"] * data[\"built_year\"]\n",
    "data[\"num_rooms_2\"] = data[\"num_rooms\"] ** 2"
   ]
  },
  {
   "cell_type": "markdown",
   "id": "3b7c847a",
   "metadata": {},
   "source": [
    "Теперь сделаем предположение, что цена зависит только от двух новых параметров."
   ]
  },
  {
   "cell_type": "code",
   "execution_count": 10,
   "id": "03c123a5",
   "metadata": {},
   "outputs": [
    {
     "name": "stdout",
     "output_type": "stream",
     "text": [
      "Точность предсказания:  1.0\n",
      "MAE:  0.0\n",
      "Веса модели:  [1.0, 1.0]\n"
     ]
    }
   ],
   "source": [
    "X = data[[\"num_rooms_built_year\", \"num_rooms_2\"]]\n",
    "Y = data[\"price\"]\n",
    "\n",
    "model.fit(X, Y)\n",
    "predictions = model.predict(X)\n",
    "\n",
    "print(\"Точность предсказания: \", round(model.score(X, Y), 4))\n",
    "print(\"MAE: \", round(mean_absolute_error(predictions, Y), 4))\n",
    "print(\"Веса модели: \", [round(weight, 4) for weight in model.coef_])"
   ]
  },
  {
   "cell_type": "markdown",
   "id": "b051786c",
   "metadata": {},
   "source": [
    "Как видно из последних расчётов, предсказания полностью совпадают с реальными ценами. Таким образом, если бы мы могли каким-либо образом правильно предположить новые параметры, то получили бы аналогичные результаты без полиномиальных функций."
   ]
  }
 ],
 "metadata": {
  "kernelspec": {
   "display_name": "Python 3",
   "language": "python",
   "name": "python3"
  },
  "language_info": {
   "codemirror_mode": {
    "name": "ipython",
    "version": 3
   },
   "file_extension": ".py",
   "mimetype": "text/x-python",
   "name": "python",
   "nbconvert_exporter": "python",
   "pygments_lexer": "ipython3",
   "version": "3.8.8"
  }
 },
 "nbformat": 4,
 "nbformat_minor": 5
}
