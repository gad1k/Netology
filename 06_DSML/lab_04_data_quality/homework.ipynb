{
 "cells": [
  {
   "cell_type": "code",
   "execution_count": 1,
   "id": "db5e7682",
   "metadata": {},
   "outputs": [],
   "source": [
    "import pandas as pd\n",
    "import numpy as np\n",
    "\n",
    "from sklearn.linear_model import LinearRegression\n",
    "from sklearn.preprocessing import PolynomialFeatures\n",
    "from sklearn.metrics import mean_absolute_error"
   ]
  },
  {
   "cell_type": "markdown",
   "id": "c64b6d82",
   "metadata": {},
   "source": [
    "### Задание 1"
   ]
  },
  {
   "cell_type": "markdown",
   "id": "cf80eb42",
   "metadata": {},
   "source": [
    "#### Создание тестового набора данных"
   ]
  },
  {
   "cell_type": "markdown",
   "id": "3530b5ae",
   "metadata": {},
   "source": [
    "Данный датасет представляет собой информацию о параметрах жилого помещения и его стоимости. Причём так сложилось, что на стоимость данных жилых помещений оказывают большое влияние 2 параметра: количество комнат и возраст помещения. Оставшиеся два параметра (площадь и количество гаражей) несущественны."
   ]
  },
  {
   "cell_type": "code",
   "execution_count": 2,
   "id": "afa18005",
   "metadata": {},
   "outputs": [],
   "source": [
    "samples = 100\n",
    "\n",
    "square = np.random.randint(35, 120, samples)\n",
    "num_rooms = np.random.randint(1, 5, samples)\n",
    "num_garage = np.random.randint(0, 2, samples)\n",
    "age = np.random.randint(1, 100, samples)\n",
    "\n",
    "price =  num_rooms * age + num_rooms ** 2\n",
    "\n",
    "data = pd.DataFrame({\"square\": square, \"num_rooms\": num_rooms, \"num_garage\": num_garage, \"age\": age, \"price\": price})"
   ]
  },
  {
   "cell_type": "code",
   "execution_count": 3,
   "id": "3127e2c3",
   "metadata": {},
   "outputs": [
    {
     "data": {
      "text/html": [
       "<div>\n",
       "<style scoped>\n",
       "    .dataframe tbody tr th:only-of-type {\n",
       "        vertical-align: middle;\n",
       "    }\n",
       "\n",
       "    .dataframe tbody tr th {\n",
       "        vertical-align: top;\n",
       "    }\n",
       "\n",
       "    .dataframe thead th {\n",
       "        text-align: right;\n",
       "    }\n",
       "</style>\n",
       "<table border=\"1\" class=\"dataframe\">\n",
       "  <thead>\n",
       "    <tr style=\"text-align: right;\">\n",
       "      <th></th>\n",
       "      <th>square</th>\n",
       "      <th>num_rooms</th>\n",
       "      <th>num_garage</th>\n",
       "      <th>age</th>\n",
       "      <th>price</th>\n",
       "    </tr>\n",
       "  </thead>\n",
       "  <tbody>\n",
       "    <tr>\n",
       "      <th>count</th>\n",
       "      <td>100.000000</td>\n",
       "      <td>100.000000</td>\n",
       "      <td>100.000000</td>\n",
       "      <td>100.000000</td>\n",
       "      <td>100.000000</td>\n",
       "    </tr>\n",
       "    <tr>\n",
       "      <th>mean</th>\n",
       "      <td>76.890000</td>\n",
       "      <td>2.590000</td>\n",
       "      <td>0.530000</td>\n",
       "      <td>49.970000</td>\n",
       "      <td>135.620000</td>\n",
       "    </tr>\n",
       "    <tr>\n",
       "      <th>std</th>\n",
       "      <td>23.897464</td>\n",
       "      <td>1.035677</td>\n",
       "      <td>0.501614</td>\n",
       "      <td>28.657312</td>\n",
       "      <td>93.248422</td>\n",
       "    </tr>\n",
       "    <tr>\n",
       "      <th>min</th>\n",
       "      <td>35.000000</td>\n",
       "      <td>1.000000</td>\n",
       "      <td>0.000000</td>\n",
       "      <td>1.000000</td>\n",
       "      <td>2.000000</td>\n",
       "    </tr>\n",
       "    <tr>\n",
       "      <th>25%</th>\n",
       "      <td>56.000000</td>\n",
       "      <td>2.000000</td>\n",
       "      <td>0.000000</td>\n",
       "      <td>26.250000</td>\n",
       "      <td>65.000000</td>\n",
       "    </tr>\n",
       "    <tr>\n",
       "      <th>50%</th>\n",
       "      <td>77.000000</td>\n",
       "      <td>3.000000</td>\n",
       "      <td>1.000000</td>\n",
       "      <td>47.500000</td>\n",
       "      <td>111.500000</td>\n",
       "    </tr>\n",
       "    <tr>\n",
       "      <th>75%</th>\n",
       "      <td>94.500000</td>\n",
       "      <td>3.000000</td>\n",
       "      <td>1.000000</td>\n",
       "      <td>76.000000</td>\n",
       "      <td>202.500000</td>\n",
       "    </tr>\n",
       "    <tr>\n",
       "      <th>max</th>\n",
       "      <td>116.000000</td>\n",
       "      <td>4.000000</td>\n",
       "      <td>1.000000</td>\n",
       "      <td>99.000000</td>\n",
       "      <td>384.000000</td>\n",
       "    </tr>\n",
       "  </tbody>\n",
       "</table>\n",
       "</div>"
      ],
      "text/plain": [
       "           square   num_rooms  num_garage         age       price\n",
       "count  100.000000  100.000000  100.000000  100.000000  100.000000\n",
       "mean    76.890000    2.590000    0.530000   49.970000  135.620000\n",
       "std     23.897464    1.035677    0.501614   28.657312   93.248422\n",
       "min     35.000000    1.000000    0.000000    1.000000    2.000000\n",
       "25%     56.000000    2.000000    0.000000   26.250000   65.000000\n",
       "50%     77.000000    3.000000    1.000000   47.500000  111.500000\n",
       "75%     94.500000    3.000000    1.000000   76.000000  202.500000\n",
       "max    116.000000    4.000000    1.000000   99.000000  384.000000"
      ]
     },
     "execution_count": 3,
     "metadata": {},
     "output_type": "execute_result"
    }
   ],
   "source": [
    "data.describe()"
   ]
  },
  {
   "cell_type": "markdown",
   "id": "e20240e8",
   "metadata": {},
   "source": [
    "#### Поиск модели"
   ]
  },
  {
   "cell_type": "code",
   "execution_count": 4,
   "id": "c3a50579",
   "metadata": {},
   "outputs": [],
   "source": [
    "model = LinearRegression()"
   ]
  },
  {
   "cell_type": "markdown",
   "id": "902db42b",
   "metadata": {},
   "source": [
    "Т.к. мы \"не знаем\" закона, которому подчиняются данные для предсказания цены, то сделаем первое предположение, что цена в какой-то мере зависит от площади и количества комнат."
   ]
  },
  {
   "cell_type": "code",
   "execution_count": 5,
   "id": "c0f6c10f",
   "metadata": {},
   "outputs": [
    {
     "name": "stdout",
     "output_type": "stream",
     "text": [
      "Точность предсказания:  0.3306\n",
      "MAE:  63.3077\n",
      "Веса модели:  [-0.3594, 50.5916]\n"
     ]
    }
   ],
   "source": [
    "X = data[[\"square\", \"num_rooms\"]]\n",
    "Y = data[\"price\"]\n",
    "\n",
    "model.fit(X, Y)\n",
    "predictions = model.predict(X)\n",
    "\n",
    "print(\"Точность предсказания: \", round(model.score(X, Y), 4))\n",
    "print(\"MAE: \", round(mean_absolute_error(predictions, Y), 4))\n",
    "print(\"Веса модели: \", [round(weight, 4) for weight in model.coef_])"
   ]
  },
  {
   "cell_type": "markdown",
   "id": "1844acc9",
   "metadata": {},
   "source": [
    "Как видно из результатов, наша модель имеет малую точность предсказания (всего 33%). Также параметр МАЕ является не очень удовлетворительным, т.к. при mean/min/max равным 136/2/384 в среднем ошибаться на 63 довольно плохо."
   ]
  },
  {
   "cell_type": "markdown",
   "id": "92967944",
   "metadata": {},
   "source": [
    "Попробуем, например, заменить параметр количество комнат на возраст помещения."
   ]
  },
  {
   "cell_type": "code",
   "execution_count": 6,
   "id": "afdc5d57",
   "metadata": {},
   "outputs": [
    {
     "name": "stdout",
     "output_type": "stream",
     "text": [
      "Точность предсказания:  0.539\n",
      "MAE:  49.1333\n",
      "Веса модели:  [-0.1904, 2.3667]\n"
     ]
    }
   ],
   "source": [
    "X = data[[\"square\", \"age\"]]\n",
    "Y = data[\"price\"]\n",
    "\n",
    "model.fit(X, Y)\n",
    "predictions = model.predict(X)\n",
    "\n",
    "print(\"Точность предсказания: \", round(model.score(X, Y), 4))\n",
    "print(\"MAE: \", round(mean_absolute_error(predictions, Y), 4))\n",
    "print(\"Веса модели: \", [round(weight, 4) for weight in model.coef_])"
   ]
  },
  {
   "cell_type": "markdown",
   "id": "116a8936",
   "metadata": {},
   "source": [
    "Результаты немного улучшились, но, по-прежнему, являются неудовлетворительными.\n",
    "\n",
    "Возьмём предельный случай и предположим, что цена зависит от всех признаков."
   ]
  },
  {
   "cell_type": "code",
   "execution_count": 7,
   "id": "ed0381a5",
   "metadata": {},
   "outputs": [
    {
     "name": "stdout",
     "output_type": "stream",
     "text": [
      "Точность предсказания:  0.9064\n",
      "MAE:  22.3035\n",
      "Веса модели:  [-0.0249, 54.6163, -4.0889, 2.483]\n"
     ]
    }
   ],
   "source": [
    "X = data[[\"square\", \"num_rooms\", \"num_garage\", \"age\"]]\n",
    "Y = data[\"price\"]\n",
    "\n",
    "model.fit(X, Y)\n",
    "predictions = model.predict(X)\n",
    "\n",
    "print(\"Точность предсказания: \", round(model.score(X, Y), 4))\n",
    "print(\"MAE: \", round(mean_absolute_error(predictions, Y), 4))\n",
    "print(\"Веса модели: \", [round(weight, 4) for weight in model.coef_])"
   ]
  },
  {
   "cell_type": "markdown",
   "id": "03b57eeb",
   "metadata": {},
   "source": [
    "В этот раз результаты намного лучше. Их в принципе можно считать удовлетворительными, даже без учёта ввода дополнительных параметров. Но можно ли улучшить модель? Попробуем для начала воспользоваться полиномиальными функциями."
   ]
  },
  {
   "cell_type": "code",
   "execution_count": 8,
   "id": "9800d107",
   "metadata": {},
   "outputs": [
    {
     "name": "stdout",
     "output_type": "stream",
     "text": [
      "Варианты коэффициентов:  ['1', 'x0', 'x1', 'x2', 'x3', 'x0^2', 'x0 x1', 'x0 x2', 'x0 x3', 'x1^2', 'x1 x2', 'x1 x3', 'x2^2', 'x2 x3', 'x3^2']\n",
      "Значения коэффициентов:  [0, 0, 0, 0, 0, 0, 0, 0, 0, 1, 0, 1, 0, 0, 0]\n"
     ]
    }
   ],
   "source": [
    "pf = PolynomialFeatures(2)\n",
    "\n",
    "X = pf.fit_transform(data[[\"square\", \"num_rooms\", \"num_garage\", \"age\"]])\n",
    "Y = data[\"price\"]\n",
    "\n",
    "model.fit(X, Y)\n",
    "\n",
    "print(\"Варианты коэффициентов: \", pf.get_feature_names())\n",
    "print(\"Значения коэффициентов: \", [round(weight) for weight in model.coef_])"
   ]
  },
  {
   "cell_type": "markdown",
   "id": "ca5af25a",
   "metadata": {},
   "source": [
    "Как видно из расчётов, следующие комбинации коэффициентов: 1 * x1 * x2 и 1 * x2 ** 2 (т.е. 1 * num_rooms * age и num_rooms ** 2) - являются существенными для данного датасета. Попробуем добавить в наш датасет два новых параметра: num_rooms_age и num_rooms_2."
   ]
  },
  {
   "cell_type": "code",
   "execution_count": 9,
   "id": "634e37af",
   "metadata": {},
   "outputs": [],
   "source": [
    "data[\"num_rooms_age\"] = data[\"num_rooms\"] * data[\"age\"]\n",
    "data[\"num_rooms_2\"] = data[\"num_rooms\"] ** 2"
   ]
  },
  {
   "cell_type": "markdown",
   "id": "3b7c847a",
   "metadata": {},
   "source": [
    "Теперь сделаем предположение, что цена зависит только от двух новых параметров."
   ]
  },
  {
   "cell_type": "code",
   "execution_count": 10,
   "id": "03c123a5",
   "metadata": {},
   "outputs": [
    {
     "name": "stdout",
     "output_type": "stream",
     "text": [
      "Точность предсказания:  1.0\n",
      "MAE:  0.0\n",
      "Веса модели:  [1.0, 1.0]\n"
     ]
    }
   ],
   "source": [
    "X = data[[\"num_rooms_age\", \"num_rooms_2\"]]\n",
    "Y = data[\"price\"]\n",
    "\n",
    "model.fit(X, Y)\n",
    "predictions = model.predict(X)\n",
    "\n",
    "print(\"Точность предсказания: \", round(model.score(X, Y), 4))\n",
    "print(\"MAE: \", round(mean_absolute_error(predictions, Y), 4))\n",
    "print(\"Веса модели: \", [round(weight, 4) for weight in model.coef_])"
   ]
  },
  {
   "cell_type": "markdown",
   "id": "b051786c",
   "metadata": {},
   "source": [
    "Как видно из последних расчётов, предсказания полностью совпадают с реальными ценами. Таким образом, если бы мы могли каким-либо образом правильно предположить новые параметры, то получили бы аналогичные результаты без полиномиальных функций."
   ]
  }
 ],
 "metadata": {
  "kernelspec": {
   "display_name": "Python 3",
   "language": "python",
   "name": "python3"
  },
  "language_info": {
   "codemirror_mode": {
    "name": "ipython",
    "version": 3
   },
   "file_extension": ".py",
   "mimetype": "text/x-python",
   "name": "python",
   "nbconvert_exporter": "python",
   "pygments_lexer": "ipython3",
   "version": "3.8.8"
  }
 },
 "nbformat": 4,
 "nbformat_minor": 5
}
