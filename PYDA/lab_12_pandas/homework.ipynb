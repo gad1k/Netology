{
 "cells": [
  {
   "cell_type": "code",
   "execution_count": 1,
   "metadata": {},
   "outputs": [],
   "source": [
    "import pandas as pd"
   ]
  },
  {
   "cell_type": "markdown",
   "metadata": {},
   "source": [
    "### Задание 1"
   ]
  },
  {
   "cell_type": "code",
   "execution_count": 2,
   "metadata": {},
   "outputs": [
    {
     "name": "stdout",
     "output_type": "stream",
     "text": [
      "318    31896\n",
      "Name: movieId, dtype: int64\n"
     ]
    }
   ],
   "source": [
    "data = pd.read_csv(\"d:\\\\study\\\\netology\\\\notebook\\\\lab_12_pandas\\\\rating.csv\")\n",
    "\n",
    "filtered_data = data[(data[\"rating\"] == 5)]\n",
    "best_movie = filtered_data[\"movieId\"].value_counts().head(1)\n",
    "\n",
    "print(best_movie)"
   ]
  },
  {
   "cell_type": "markdown",
   "metadata": {},
   "source": [
    "### Задание 2"
   ]
  },
  {
   "cell_type": "code",
   "execution_count": 3,
   "metadata": {},
   "outputs": [
    {
     "name": "stdout",
     "output_type": "stream",
     "text": [
      "Суммарное потребление: 240580.0\n"
     ]
    }
   ],
   "source": [
    "data = pd.read_csv(\"d:\\\\study\\\\netology\\\\notebook\\\\lab_12_pandas\\\\power.csv\")\n",
    "\n",
    "data.query(\"country == 'Latvia' | country == 'Lithuania' | country == 'Estonia'\", inplace=True)\n",
    "data.query(\"category == 4 | category == 12 | category == 21\", inplace=True)\n",
    "data.query(\"2005 <= year <= 2010\", inplace=True)\n",
    "data.query(\"quantity > 0\", inplace=True)\n",
    "\n",
    "print(\"Суммарное потребление:\", data[\"quantity\"].sum())"
   ]
  },
  {
   "cell_type": "markdown",
   "metadata": {},
   "source": [
    "### Задание 3"
   ]
  },
  {
   "cell_type": "code",
   "execution_count": 4,
   "metadata": {},
   "outputs": [
    {
     "name": "stdout",
     "output_type": "stream",
     "text": [
      "                           Название   Цена  Изменение  Изменение(%)  Обновлено\n",
      "0       Золото Цена золота на бирже  1 834      -1.00         -0.00        NaN\n",
      "1  Серебро Цена на серебро на бирже  27.32       0.11          0.40        NaN\n",
      "2         Палладий Цена на Палладий  2 322       2.00          0.00        NaN\n",
      "3           Платина Цены на платину  1 219      29.00          2.00        NaN\n",
      "4           Медь Цена меди на бирже   3.77       0.05          1.43        NaN\n"
     ]
    }
   ],
   "source": [
    "page_url = \"https://fortrader.org/quotes\"\n",
    "\n",
    "print(pd.read_html(page_url)[2])"
   ]
  }
 ],
 "metadata": {
  "kernelspec": {
   "display_name": "Python 3",
   "language": "python",
   "name": "python3"
  },
  "language_info": {
   "codemirror_mode": {
    "name": "ipython",
    "version": 3
   },
   "file_extension": ".py",
   "mimetype": "text/x-python",
   "name": "python",
   "nbconvert_exporter": "python",
   "pygments_lexer": "ipython3",
   "version": "3.8.5"
  }
 },
 "nbformat": 4,
 "nbformat_minor": 4
}
