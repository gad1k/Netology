{
 "cells": [
  {
   "cell_type": "code",
   "execution_count": 1,
   "metadata": {},
   "outputs": [],
   "source": [
    "import re\n",
    "import pandas as pd"
   ]
  },
  {
   "cell_type": "markdown",
   "metadata": {},
   "source": [
    "### Задание 1"
   ]
  },
  {
   "cell_type": "code",
   "execution_count": 2,
   "metadata": {},
   "outputs": [
    {
     "name": "stdout",
     "output_type": "stream",
     "text": [
      "   userId  movieId  rating   timestamp    class\n",
      "0       1       31     2.5  1260759144  Средний\n",
      "1       1     1029     3.0  1260759179  Средний\n",
      "2       1     1061     3.0  1260759182  Средний\n",
      "3       1     1129     2.0  1260759185   Низкий\n",
      "4       1     1172     4.0  1260759205  Средний\n",
      "5       1     1263     2.0  1260759151   Низкий\n",
      "6       1     1287     2.0  1260759187   Низкий\n",
      "7       1     1293     2.0  1260759148   Низкий\n",
      "8       1     1339     3.5  1260759125  Средний\n",
      "9       1     1343     5.0  1260759131  Высокий\n"
     ]
    }
   ],
   "source": [
    "def scoring(param) -> str:\n",
    "    if param <= 2:\n",
    "        return \"Низкий\"\n",
    "    elif param <= 4:\n",
    "        return \"Средний\"\n",
    "    else:\n",
    "        return \"Высокий\"\n",
    "\n",
    "\n",
    "data = pd.read_csv(\"d:\\\\study\\\\netology\\\\notebook\\\\lab_13_pandas_adv\\\\ratings.csv\")\n",
    "data[\"class\"] = data[\"rating\"].apply(scoring)\n",
    "\n",
    "print(data.head(10))"
   ]
  },
  {
   "cell_type": "markdown",
   "metadata": {},
   "source": [
    "### Задание 2"
   ]
  },
  {
   "cell_type": "code",
   "execution_count": 3,
   "metadata": {},
   "outputs": [
    {
     "name": "stdout",
     "output_type": "stream",
     "text": [
      "                        keyword     shows          region\n",
      "0                            вк  64292779       Undefined\n",
      "1              моя реклама тула     20375           Центр\n",
      "2  погода в мурманске на неделю     16865    Северо-Запад\n",
      "3                         порно  41747114       Undefined\n",
      "4        погода во владивостоке     18262  Дальний Восток\n",
      "5                 одноклассники  63810309       Undefined\n",
      "6                          ютуб  39995567       Undefined\n",
      "7                     вконтакте  21014195       Undefined\n",
      "8    одноклассники моя страница  19976138       Undefined\n",
      "9                авито мурманск     89787    Северо-Запад\n"
     ]
    }
   ],
   "source": [
    "def geo_ranging(param) -> str:\n",
    "    geo_data = {\n",
    "        \"Центр\": [\"москва\", \"тула\", \"ярославль\"],\n",
    "        \"Северо-Запад\": [\"петербург\", \"псков\", \"мурманск\"],\n",
    "        \"Дальний Восток\": [\"владивосток\", \"сахалин\", \"хабаровск\"]\n",
    "    }\n",
    "\n",
    "    for label, tags in geo_data.items():\n",
    "        if re.findall(\"|\".join(tags), param):\n",
    "            return label\n",
    "\n",
    "    return \"Undefined\"\n",
    "\n",
    "\n",
    "data = pd.read_csv(\"d:\\\\study\\\\netology\\\\notebook\\\\lab_13_pandas_adv\\\\keywords.csv\")\n",
    "data[\"region\"] = data[\"keyword\"].apply(geo_ranging)\n",
    "\n",
    "print(data.head(10))"
   ]
  },
  {
   "cell_type": "markdown",
   "metadata": {},
   "source": [
    "### Задание 3 (бонусное)"
   ]
  },
  {
   "cell_type": "code",
   "execution_count": 4,
   "metadata": {},
   "outputs": [
    {
     "name": "stdout",
     "output_type": "stream",
     "text": [
      "   year    rating\n",
      "0  1957  4.014241\n",
      "1  1972  4.011136\n",
      "2  1952  4.000000\n",
      "3  1954  3.994220\n",
      "4  1951  3.983539\n",
      "5  1974  3.978704\n",
      "6  1962  3.952446\n",
      "7  1950  3.915254\n",
      "8  1977  3.905786\n",
      "9  1964  3.841492\n"
     ]
    }
   ],
   "source": [
    "def production_year(param) -> str:\n",
    "    years = list(range(1950, 2011))\n",
    "\n",
    "    for year in years:\n",
    "        if str(year) in param:\n",
    "            return str(year)\n",
    "\n",
    "    return \"1900\"\n",
    "\n",
    "\n",
    "movies = pd.read_csv(\"d:\\\\study\\\\netology\\\\notebook\\\\lab_13_pandas_adv\\\\movies.csv\")\n",
    "ratings = pd.read_csv(\"d:\\\\study\\\\netology\\\\notebook\\\\lab_13_pandas_adv\\\\ratings.csv\")\n",
    "\n",
    "movies[\"year\"] = movies[\"title\"].apply(production_year)\n",
    "joined = movies.merge(ratings, on=\"movieId\")\n",
    "\n",
    "print(joined.groupby(\"year\").mean().sort_values(\"rating\", ascending=False).reset_index().head(10)[[\"year\", \"rating\"]])\n"
   ]
  }
 ],
 "metadata": {
  "kernelspec": {
   "display_name": "Python 3",
   "language": "python",
   "name": "python3"
  },
  "language_info": {
   "codemirror_mode": {
    "name": "ipython",
    "version": 3
   },
   "file_extension": ".py",
   "mimetype": "text/x-python",
   "name": "python",
   "nbconvert_exporter": "python",
   "pygments_lexer": "ipython3",
   "version": "3.8.5"
  }
 },
 "nbformat": 4,
 "nbformat_minor": 4
}
