{
 "cells": [
  {
   "cell_type": "markdown",
   "metadata": {},
   "source": [
    "### Задание 1"
   ]
  },
  {
   "cell_type": "code",
   "execution_count": 1,
   "metadata": {},
   "outputs": [
    {
     "name": "stdout",
     "output_type": "stream",
     "text": [
      "{98, 35, 213, 54, 119, 15}\n"
     ]
    }
   ],
   "source": [
    "ids = {\n",
    "    \"user1\": [213, 213, 213, 15, 213],\n",
    "    \"user2\": [54, 54, 119, 119, 119],\n",
    "    \"user3\": [213, 98, 98, 35]\n",
    "}\n",
    "\n",
    "geo = set()\n",
    "\n",
    "for v in ids.values():\n",
    "    geo.update(set(v))\n",
    "\n",
    "print(geo)"
   ]
  },
  {
   "cell_type": "markdown",
   "metadata": {},
   "source": [
    "### Задание 2"
   ]
  },
  {
   "cell_type": "code",
   "execution_count": 2,
   "metadata": {},
   "outputs": [
    {
     "name": "stdout",
     "output_type": "stream",
     "text": [
      "Поисковых запросов, содержащих 2 слов(а): 42.86\n",
      "Поисковых запросов, содержащих 3 слов(а): 57.14\n"
     ]
    }
   ],
   "source": [
    "queries = [\n",
    "    \"смотреть сериалы онлайн\",\n",
    "    \"новости спорта\",\n",
    "    \"афиша кино\",\n",
    "    \"курс доллара\",\n",
    "    \"сериалы этим летом\",\n",
    "    \"курс по питону\",\n",
    "    \"сериалы про спорт\"\n",
    "]\n",
    "\n",
    "results = dict()\n",
    "for query in queries:\n",
    "    cnt = len(query.split(\" \"))\n",
    "    results.setdefault(cnt, 0)\n",
    "    results[cnt] += 1\n",
    "\n",
    "for k, v in sorted(results.items()):\n",
    "    print(f\"Поисковых запросов, содержащих {k} слов(а): {round(v / len(queries) * 100, 2)}\")"
   ]
  },
  {
   "cell_type": "markdown",
   "metadata": {},
   "source": [
    "### Задание 3"
   ]
  },
  {
   "cell_type": "code",
   "execution_count": 3,
   "metadata": {},
   "outputs": [
    {
     "name": "stdout",
     "output_type": "stream",
     "text": [
      "{'adwords': {'ROI': 2.94, 'cost': 34, 'revenue': 35},\n",
      " 'facebook': {'ROI': -6.36, 'cost': 110, 'revenue': 103},\n",
      " 'twitter': {'ROI': -54.17, 'cost': 24, 'revenue': 11},\n",
      " 'vk': {'ROI': 5.1, 'cost': 98, 'revenue': 103},\n",
      " 'yandex': {'ROI': 16.99, 'cost': 153, 'revenue': 179}}\n"
     ]
    }
   ],
   "source": [
    "import pprint\n",
    "\n",
    "result = {\n",
    "    \"vk\": {\"revenue\": 103, \"cost\": 98},\n",
    "    \"yandex\": {\"revenue\": 179, \"cost\": 153},\n",
    "    \"facebook\": {\"revenue\": 103, \"cost\": 110},\n",
    "    \"adwords\": {\"revenue\": 35, \"cost\": 34},\n",
    "    \"twitter\": {\"revenue\": 11, \"cost\": 24}\n",
    "}\n",
    "\n",
    "for k, v in result.items():\n",
    "    result[k][\"ROI\"] = round((v[\"revenue\"] / v[\"cost\"] - 1) * 100, 2)\n",
    "\n",
    "pprint.pprint(result)"
   ]
  },
  {
   "cell_type": "markdown",
   "metadata": {},
   "source": [
    "### Задание 4"
   ]
  },
  {
   "cell_type": "code",
   "execution_count": 4,
   "metadata": {},
   "outputs": [
    {
     "name": "stdout",
     "output_type": "stream",
     "text": [
      "Максимальный объем продаж на рекламном канале: vk\n"
     ]
    }
   ],
   "source": [
    "stats = {\n",
    "    \"facebook\": 55,\n",
    "    \"yandex\": 115,\n",
    "    \"vk\": 120,\n",
    "    \"google\": 99,\n",
    "    \"email\": 42,\n",
    "    \"ok\": 98\n",
    "}\n",
    "\n",
    "channel = [k for k, v in stats.items() if v == max(stats.values())][0]\n",
    "print(\"Максимальный объем продаж на рекламном канале:\", channel)"
   ]
  },
  {
   "cell_type": "markdown",
   "metadata": {},
   "source": [
    "### Задание 5 (необязательное)"
   ]
  },
  {
   "cell_type": "code",
   "execution_count": 5,
   "metadata": {},
   "outputs": [
    {
     "name": "stdout",
     "output_type": "stream",
     "text": [
      "{'2018-01-01': {'yandex': {'cpc': 100}}}\n"
     ]
    }
   ],
   "source": [
    "my_list = [\"2018-01-01\", \"yandex\", \"cpc\", 100]\n",
    "my_dict = {my_list.pop(-2): my_list.pop(-1)}\n",
    "\n",
    "for key in reversed(my_list):\n",
    "    my_dict = {key: my_dict}\n",
    "    \n",
    "print(my_dict)"
   ]
  },
  {
   "cell_type": "markdown",
   "metadata": {},
   "source": [
    "### Задание 6 (необязательное)"
   ]
  },
  {
   "cell_type": "code",
   "execution_count": 6,
   "metadata": {},
   "outputs": [
    {
     "name": "stdout",
     "output_type": "stream",
     "text": [
      "Введите количество порций: 3\n",
      "Результат:\n",
      "Сыр: 210 гр\n",
      "Томаты: 6 шт\n",
      "Огурцы: 60 гр\n",
      "Маслины: 30 гр\n",
      "Оливковое масло: 60 мл\n",
      "Салат: 30 гр\n",
      "Перец: 60 гр\n",
      "Колбаса: 90 гр\n",
      "Бекон: 90 гр\n",
      "Оливки: 30 гр\n",
      "Томаты: 60 гр\n",
      "Тесто: 300 гр\n",
      "Лимон: 3 шт\n",
      "Вода: 600 мл\n",
      "Сахар: 30 гр\n",
      "Лайм: 60 гр\n"
     ]
    }
   ],
   "source": [
    "cook_book = {\n",
    "    \"салат\": [\n",
    "        {\"ingredient_name\": \"сыр\", \"quantity\": 50, \"measure\": \"гр\"},\n",
    "        {\"ingredient_name\": \"томаты\", \"quantity\": 2, \"measure\": \"шт\"},\n",
    "        {\"ingredient_name\": \"огурцы\", \"quantity\": 20, \"measure\": \"гр\"},\n",
    "        {\"ingredient_name\": \"маслины\", \"quantity\": 10, \"measure\": \"гр\"},\n",
    "        {\"ingredient_name\": \"оливковое масло\", \"quantity\": 20, \"measure\": \"мл\"},\n",
    "        {\"ingredient_name\": \"салат\", \"quantity\": 10, \"measure\": \"гр\"},\n",
    "        {\"ingredient_name\": \"перец\", \"quantity\": 20, \"measure\": \"гр\"}\n",
    "    ],\n",
    "    \"пицца\": [\n",
    "        {\"ingredient_name\": \"сыр\", \"quantity\": 20, \"measure\": \"гр\"},\n",
    "        {\"ingredient_name\": \"колбаса\", \"quantity\": 30, \"measure\": \"гр\"},\n",
    "        {\"ingredient_name\": \"бекон\", \"quantity\": 30, \"measure\": \"гр\"},\n",
    "        {\"ingredient_name\": \"оливки\", \"quantity\": 10, \"measure\": \"гр\"},\n",
    "        {\"ingredient_name\": \"томаты\", \"quantity\": 20, \"measure\": \"гр\"},\n",
    "        {\"ingredient_name\": \"тесто\", \"quantity\": 100, \"measure\": \"гр\"},\n",
    "    ],\n",
    "    \"лимонад\": [\n",
    "        {\"ingredient_name\": \"лимон\", \"quantity\": 1, \"measure\": \"шт\"},\n",
    "        {\"ingredient_name\": \"вода\", \"quantity\": 200, \"measure\": \"мл\"},\n",
    "        {\"ingredient_name\": \"сахар\", \"quantity\": 10, \"measure\": \"гр\"},\n",
    "        {\"ingredient_name\": \"лайм\", \"quantity\": 20, \"measure\": \"гр\"},\n",
    "    ]\n",
    "}\n",
    "\n",
    "num_portion = int(input(\"Введите количество порций: \"))\n",
    "\n",
    "if num_portion >= 0:\n",
    "    all_ingr = dict()\n",
    "\n",
    "    for dish in cook_book.values():\n",
    "        for ingr in dish:\n",
    "            all_ingr.setdefault((ingr[\"ingredient_name\"], ingr[\"measure\"]), 0)\n",
    "            all_ingr[(ingr[\"ingredient_name\"], ingr[\"measure\"])] += ingr[\"quantity\"] * num_portion\n",
    "\n",
    "    print(\"Результат:\")\n",
    "    for name, quantity in all_ingr.items():\n",
    "        print(f\"{name[0].capitalize()}: {quantity} {name[1]}\")\n",
    "else:\n",
    "    print(\"Введено неверное количество порций\")"
   ]
  }
 ],
 "metadata": {
  "kernelspec": {
   "display_name": "Python 3",
   "language": "python",
   "name": "python3"
  },
  "language_info": {
   "codemirror_mode": {
    "name": "ipython",
    "version": 3
   },
   "file_extension": ".py",
   "mimetype": "text/x-python",
   "name": "python",
   "nbconvert_exporter": "python",
   "pygments_lexer": "ipython3",
   "version": "3.8.5"
  }
 },
 "nbformat": 4,
 "nbformat_minor": 4
}
