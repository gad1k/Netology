{
 "cells": [
  {
   "cell_type": "markdown",
   "metadata": {},
   "source": [
    "### Задание 1"
   ]
  },
  {
   "cell_type": "code",
   "execution_count": 4,
   "metadata": {},
   "outputs": [
    {
     "name": "stdout",
     "output_type": "stream",
     "text": [
      "Фраза 1 длиннее фразы 2\n"
     ]
    }
   ],
   "source": [
    "phrase_1 = \"Насколько проще было бы писать программы, если бы не заказчики\"\n",
    "phrase_2 = \"640Кб должно хватить для любых задач. Билл Гейтс (по легенде)\"\n",
    "\n",
    "if len(phrase_1) > len(phrase_2):\n",
    "    print(\"Фраза 1 длиннее фразы 2\")\n",
    "elif len(phrase_1) < len(phrase_2):\n",
    "    print(\"Фраза 2 длиннее фразы 1\")\n",
    "else:\n",
    "    print(\"Фразы равной длины\")"
   ]
  },
  {
   "cell_type": "markdown",
   "metadata": {},
   "source": [
    "### Задание 2"
   ]
  },
  {
   "cell_type": "code",
   "execution_count": 5,
   "metadata": {},
   "outputs": [
    {
     "name": "stdout",
     "output_type": "stream",
     "text": [
      "Високосный год\n"
     ]
    }
   ],
   "source": [
    "year = 2020\n",
    "\n",
    "if year % 4 == 0:\n",
    "    if year % 100 == 0:\n",
    "        if year % 400 == 0:\n",
    "            print(\"Високосный год\")\n",
    "        else:\n",
    "            print(\"Обычный год\")\n",
    "    else:\n",
    "        print(\"Високосный год\")\n",
    "else:\n",
    "    print(\"Обычный год\")"
   ]
  },
  {
   "cell_type": "markdown",
   "metadata": {},
   "source": [
    "### Задание 3"
   ]
  },
  {
   "cell_type": "code",
   "execution_count": 14,
   "metadata": {},
   "outputs": [
    {
     "name": "stdout",
     "output_type": "stream",
     "text": [
      "Введите день: 30\n",
      "Введите месяц: Август\n",
      "Ваш знак зодиака: Дева\n"
     ]
    }
   ],
   "source": [
    "months = {\n",
    "    \"Январь\": (1, 31), \"Февраль\": (2, 29), \"Март\": (3, 31),\n",
    "    \"Апрель\": (4, 30), \"Май\": (5, 31), \"Июнь\": (6, 30),\n",
    "    \"Июль\": (7, 31), \"Август\": (8, 31), \"Сентябрь\": (9, 30),\n",
    "    \"Октябрь\": (10, 31), \"Ноябрь\": (11, 30), \"Декабрь\": (12, 31)\n",
    "}\n",
    "\n",
    "zodiacs = [\n",
    "    (120, \"Козерог\"), (219, \"Водолей\"), (320, \"Рыбы\"), (420, \"Овен\"),\n",
    "    (521, \"Телец\"), (621, \"Близнецы\"), (722, \"Рак\"), (821, \"Лев\"),\n",
    "    (923, \"Дева\"), (1023, \"Весы\"), (1122, \"Скорпион\"), (1222, \"Стрелец\"),\n",
    "    (1231, \"Козерог\")\n",
    "]\n",
    "\n",
    "day_num = input(\"Введите день: \")\n",
    "month_name = input(\"Введите месяц: \")\n",
    "\n",
    "month_attr = months.get(month_name.title(), \"None\")\n",
    "if month_attr == \"None\":\n",
    "    print(\"Неверный месяц\")\n",
    "elif int(day_num) <= 0 or int(day_num) > month_attr[1]:\n",
    "    print(\"Неверная дата\")\n",
    "else:\n",
    "    zodiac_day = int(str(month_attr[0]) + day_num.zfill(2))\n",
    "    for zodiac in zodiacs:\n",
    "        if zodiac_day <= zodiac[0]:\n",
    "            print(\"Ваш знак зодиака:\", zodiac[1])\n",
    "            break"
   ]
  },
  {
   "cell_type": "markdown",
   "metadata": {},
   "source": [
    "### Задание 4"
   ]
  },
  {
   "cell_type": "code",
   "execution_count": 7,
   "metadata": {},
   "outputs": [
    {
     "name": "stdout",
     "output_type": "stream",
     "text": [
      "Упаковка для лыж\n"
     ]
    }
   ],
   "source": [
    "width = 10\n",
    "length = 205\n",
    "height = 5\n",
    "\n",
    "if width < 15 and length < 15 and height < 15:\n",
    "    print(\"Коробка №1\")\n",
    "elif 15 <= width < 50 or 15 <= length < 50 or 15 <= height < 50:\n",
    "    print(\"Коробка №2\")\n",
    "elif length > 200:\n",
    "    print(\"Упаковка для лыж\")\n",
    "else:\n",
    "    print(\"Стандартная упаковка\")"
   ]
  },
  {
   "cell_type": "markdown",
   "metadata": {},
   "source": [
    "### Задание 5 (необязательное)"
   ]
  },
  {
   "cell_type": "code",
   "execution_count": 10,
   "metadata": {},
   "outputs": [
    {
     "name": "stdout",
     "output_type": "stream",
     "text": [
      "Счастливый билет\n"
     ]
    }
   ],
   "source": [
    "number = 123321\n",
    "\n",
    "first_part = 0\n",
    "second_part = 0\n",
    "\n",
    "for i in range(3):\n",
    "    first_part += int(str(number)[i])\n",
    "    second_part += int(str(number)[i + 3])\n",
    "\n",
    "if first_part == second_part:\n",
    "    print(\"Счастливый билет\")\n",
    "else:\n",
    "    print(\"Несчастливый билет\")"
   ]
  },
  {
   "cell_type": "markdown",
   "metadata": {},
   "source": [
    "### Задание 6 (необязательное)"
   ]
  },
  {
   "cell_type": "code",
   "execution_count": 13,
   "metadata": {},
   "outputs": [
    {
     "name": "stdout",
     "output_type": "stream",
     "text": [
      "Введите тип фигуры: Круг\n",
      "Введите радиус круга: 10\n",
      "Площадь круга: 314.16\n"
     ]
    }
   ],
   "source": [
    "import math\n",
    "\n",
    "figure = input(\"Введите тип фигуры: \")\n",
    "\n",
    "if figure.title() == \"Круг\":\n",
    "    radius = float(input(\"Введите радиус круга: \"))\n",
    "    if radius > 0:\n",
    "        square = math.pi * pow(radius, 2)\n",
    "        print(\"Площадь круга:\", round(square, 2))\n",
    "    else:\n",
    "        print(\"Неверный радиус\")\n",
    "elif figure.title() == \"Треугольник\":\n",
    "    a = float(input(\"Введите длину стороны A: \"))\n",
    "    b = float(input(\"Введите длину стороны B: \"))\n",
    "    c = float(input(\"Введите длину стороны C: \"))\n",
    "    if a > 0 and b > 0 and c > 0:\n",
    "        p = (a + b + c) / 2\n",
    "        square = math.sqrt(p * (p - a) * (p - b) * (p - c))\n",
    "        print(\"Площадь треугольника:\", round(square, 2))\n",
    "    else:\n",
    "        print(\"Неверные стороны треугольника\")\n",
    "elif figure.title() == \"Прямоугольник\":\n",
    "    a = float(input(\"Введите длину стороны A: \"))\n",
    "    b = float(input(\"Введите длину стороны B: \"))\n",
    "    if a > 0 and b > 0:\n",
    "        square = a * b\n",
    "        print(\"Площадь прямоугольника:\", round(square, 2))\n",
    "    else:\n",
    "        print(\"Неверные стороны прямоугольника\")\n",
    "else:\n",
    "    print(\"Неверный тип фигуры\")"
   ]
  }
 ],
 "metadata": {
  "kernelspec": {
   "display_name": "Python 3",
   "language": "python",
   "name": "python3"
  },
  "language_info": {
   "codemirror_mode": {
    "name": "ipython",
    "version": 3
   },
   "file_extension": ".py",
   "mimetype": "text/x-python",
   "name": "python",
   "nbconvert_exporter": "python",
   "pygments_lexer": "ipython3",
   "version": "3.8.5"
  }
 },
 "nbformat": 4,
 "nbformat_minor": 4
}
