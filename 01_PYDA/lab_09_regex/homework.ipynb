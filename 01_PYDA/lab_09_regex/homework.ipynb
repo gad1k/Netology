{
 "cells": [
  {
   "cell_type": "code",
   "execution_count": 1,
   "metadata": {},
   "outputs": [],
   "source": [
    "import re"
   ]
  },
  {
   "cell_type": "markdown",
   "metadata": {},
   "source": [
    "### Задание 1"
   ]
  },
  {
   "cell_type": "code",
   "execution_count": 2,
   "metadata": {},
   "outputs": [
    {
     "name": "stdout",
     "output_type": "stream",
     "text": [
      "Номер АВ222С валиден. Регион: 96\n",
      "Номер не валиден\n"
     ]
    }
   ],
   "source": [
    "def check_num(car_id: str):\n",
    "    result = re.search(r\"^([АВЕКМНОРСТУХ]{2}\\d{3}[АВЕКМНОРСТУХ])(\\d{1,3})$\", car_id)\n",
    "    if result:\n",
    "        return [result.group(1), result.group(2)]\n",
    "\n",
    "\n",
    "def show_result(result):\n",
    "    if result:\n",
    "        print(f\"Номер {result[0]} валиден. Регион: {result[1]}\")\n",
    "    else:\n",
    "        print(\"Номер не валиден\")\n",
    "\n",
    "\n",
    "show_result(check_num(\"АВ222С96\"))\n",
    "show_result(check_num(\"АБ22ВВ193\"))"
   ]
  },
  {
   "cell_type": "markdown",
   "metadata": {},
   "source": [
    "### Задание 2"
   ]
  },
  {
   "cell_type": "code",
   "execution_count": 3,
   "metadata": {},
   "outputs": [
    {
     "name": "stdout",
     "output_type": "stream",
     "text": [
      "Напишите функцию, которая будет удалять все последовательные повторы слов из заданной строки при помощи регулярных выражений\n"
     ]
    }
   ],
   "source": [
    "def delete_repeats(line: str):\n",
    "    print(re.sub(r\"([\\w]+)(\\s+\\1)+\", r\"\\1\", line))\n",
    "\n",
    "\n",
    "some_string = \"Напишите функцию функцию, которая будет будет будет будет удалять все все все все последовательные \" \\\n",
    "              \"повторы слов из из из из заданной строки строки при помощи регулярных выражений\"\n",
    "\n",
    "delete_repeats(some_string)"
   ]
  },
  {
   "cell_type": "markdown",
   "metadata": {},
   "source": [
    "### Задание 3"
   ]
  },
  {
   "cell_type": "code",
   "execution_count": 4,
   "metadata": {},
   "outputs": [
    {
     "name": "stdout",
     "output_type": "stream",
     "text": [
      "ИТ\n",
      "NFC\n"
     ]
    }
   ],
   "source": [
    "def make_acronym(line: str) -> str:\n",
    "    return re.sub(r\"\\b(\\w)\\w+\\s?\", r\"\\1\", line).upper()\n",
    "\n",
    "\n",
    "some_words = \"Информационные технологии\"\n",
    "print(make_acronym(some_words))\n",
    "\n",
    "some_words = \"Near Field Communication\"\n",
    "print(make_acronym(some_words))"
   ]
  },
  {
   "cell_type": "markdown",
   "metadata": {},
   "source": [
    "### Задание 4"
   ]
  },
  {
   "cell_type": "code",
   "execution_count": 5,
   "metadata": {},
   "outputs": [
    {
     "name": "stdout",
     "output_type": "stream",
     "text": [
      "gmail.com: 2\n",
      "test.in: 1\n",
      "ya.ru: 2\n",
      "mail.ru: 1\n"
     ]
    }
   ],
   "source": [
    "def zone_allocation(emails: list):\n",
    "    zones = dict()\n",
    "    \n",
    "    for email in emails:\n",
    "        zone = str(re.search(r\"(?<=@).*\", email).group())\n",
    "        zones.setdefault(zone, 0)\n",
    "        zones[zone] += 1\n",
    "\n",
    "    for zone, count in zones.items():\n",
    "        print(f\"{zone}: {count}\")\n",
    "\n",
    "\n",
    "emails_list = [\"test@gmail.com\", \"xyz@test.in\", \"test@ya.ru\", \"xyz@mail.ru\", \"xyz@ya.ru\", \"xyz@gmail.com\"]\n",
    "zone_allocation(emails_list)"
   ]
  },
  {
   "cell_type": "markdown",
   "metadata": {},
   "source": [
    "### Задание 5 (необязательное)"
   ]
  },
  {
   "cell_type": "code",
   "execution_count": 6,
   "metadata": {},
   "outputs": [
    {
     "name": "stdout",
     "output_type": "stream",
     "text": [
      "Слов на гласные буквы: 9\n",
      "Слов на согласные буквы: 21\n"
     ]
    }
   ],
   "source": [
    "def count_letters_vc(text: str):\n",
    "    vowel = 0\n",
    "    consonant = 0\n",
    "\n",
    "    for letter in re.findall(r\"\\b\\w\", text):\n",
    "        if re.match(\"[aeiouyаеёиоуыэюя]\", letter.lower()):\n",
    "            vowel += 1\n",
    "        else:\n",
    "            consonant += 1\n",
    "\n",
    "    print(f\"Слов на гласные буквы: {vowel}\")\n",
    "    print(f\"Слов на согласные буквы: {consonant}\")\n",
    "\n",
    "\n",
    "some_text = \"Эталонной реализацией Python является интерпретатор CPython, поддерживающий большинство активно \" \\\n",
    "            \"используемых платформ. Он распространяется под свободной лицензией Python Software Foundation License, \" \\\n",
    "            \"позволяющей использовать его без ограничений в любых приложениях, включая проприетарные.\"\n",
    "\n",
    "count_letters_vc(some_text)"
   ]
  },
  {
   "cell_type": "markdown",
   "metadata": {},
   "source": [
    "### Задание 6 (необязательное)"
   ]
  },
  {
   "cell_type": "code",
   "execution_count": 7,
   "metadata": {},
   "outputs": [
    {
     "name": "stdout",
     "output_type": "stream",
     "text": [
      "+7-950-555-55-55\n",
      "+7-950-555-55-55\n",
      "+7-950-555-55-55\n",
      "+7-950-555-55-55\n",
      "Номер не валиден\n",
      "Номер не валиден\n"
     ]
    }
   ],
   "source": [
    "def correct_phone(phone: str):\n",
    "    prepared_phone = \"\".join(re.findall(r\"\\d\", phone))\n",
    "    final_phone = re.sub(r\"^8955|^7955\", r\"7950\", prepared_phone)\n",
    "    \n",
    "    if re.match(r\"^\\d{11}$\", final_phone):\n",
    "        print(re.sub(r\"(\\d)(\\d{3})(\\d{3})(\\d{2})(\\d{2})\", r\"+\\1-\\2-\\3-\\4-\\5\", final_phone))\n",
    "    else:\n",
    "        print(\"Номер не валиден\")\n",
    "\n",
    "\n",
    "correct_phone(\"+7-950-555-55-55\")\n",
    "correct_phone(\"8(955)555-55-55\")\n",
    "correct_phone(\"+7 955 555 55 55\")\n",
    "correct_phone(\"7(955) 555-55-55\")\n",
    "correct_phone(\"423-555-55-5555\")\n",
    "correct_phone(\"123-456-789\")"
   ]
  }
 ],
 "metadata": {
  "kernelspec": {
   "display_name": "Python 3",
   "language": "python",
   "name": "python3"
  },
  "language_info": {
   "codemirror_mode": {
    "name": "ipython",
    "version": 3
   },
   "file_extension": ".py",
   "mimetype": "text/x-python",
   "name": "python",
   "nbconvert_exporter": "python",
   "pygments_lexer": "ipython3",
   "version": "3.8.5"
  }
 },
 "nbformat": 4,
 "nbformat_minor": 4
}
