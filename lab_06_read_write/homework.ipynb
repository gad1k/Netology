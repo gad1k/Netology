{
 "cells": [
  {
   "cell_type": "markdown",
   "metadata": {},
   "source": [
    "### Задание 1"
   ]
  },
  {
   "cell_type": "code",
   "execution_count": 1,
   "metadata": {},
   "outputs": [],
   "source": [
    "import json\n",
    "\n",
    "purchases = dict()\n",
    "with open(\"purchase_log.txt\", \"r\", encoding=\"utf-8\") as purchase_log:\n",
    "    for i, line in enumerate(purchase_log):\n",
    "        if i == 0:\n",
    "            continue\n",
    "        voc = json.loads(line)\n",
    "        purchases[voc[\"user_id\"]] = voc[\"category\"]\n",
    "\n",
    "with open(\"visit_log.csv\", \"r\") as visit_log:\n",
    "    with open(\"funnel.csv\", \"w\", encoding=\"utf-8\") as funnel:\n",
    "        funnel.write(\"user_id,source,category\\n\")\n",
    "        for i, line in enumerate(visit_log):\n",
    "            if i == 0:\n",
    "                continue\n",
    "            visit = line.strip().split(\",\")\n",
    "            category = purchases.get(visit[0])\n",
    "            if category is not None:\n",
    "                funnel.write(f\"{visit[0]},{visit[1]},{category}\\n\")"
   ]
  }
 ],
 "metadata": {
  "kernelspec": {
   "display_name": "Python 3",
   "language": "python",
   "name": "python3"
  },
  "language_info": {
   "codemirror_mode": {
    "name": "ipython",
    "version": 3
   },
   "file_extension": ".py",
   "mimetype": "text/x-python",
   "name": "python",
   "nbconvert_exporter": "python",
   "pygments_lexer": "ipython3",
   "version": "3.8.5"
  }
 },
 "nbformat": 4,
 "nbformat_minor": 4
}
